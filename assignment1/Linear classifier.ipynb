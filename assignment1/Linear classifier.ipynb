{
 "cells": [
  {
   "cell_type": "markdown",
   "metadata": {},
   "source": [
    "# Assignment 1.2 - Linear classifier\n",
    "\n",
    "In this assignment we implement linear classifier. Linear classifier computes the score of a class as a weighted sum of all its features. The class that has the biggest sum is the model prediction.\n",
    "\n",
    "\n",
    "In this assignment we\n",
    "- train to calculate gradients of multivariable functions.\n",
    "- implement evaluation of the gradients through the linear model and loss fuction softmax \n",
    "- implement training of linear classifier\n",
    "- choosing training parameters \n",
    "\n",
    "Numpy tutorial:  \n",
    "http://cs231n.github.io/python-numpy-tutorial/"
   ]
  },
  {
   "cell_type": "code",
   "execution_count": 8,
   "metadata": {},
   "outputs": [
    {
     "name": "stdout",
     "output_type": "stream",
     "text": [
      "The autoreload extension is already loaded. To reload it, use:\n",
      "  %reload_ext autoreload\n"
     ]
    }
   ],
   "source": [
    "import numpy as np\n",
    "import matplotlib.pyplot as plt\n",
    "\n",
    "%matplotlib inline\n",
    "\n",
    "%load_ext autoreload\n",
    "%autoreload 2"
   ]
  },
  {
   "cell_type": "code",
   "execution_count": 9,
   "metadata": {},
   "outputs": [],
   "source": [
    "from dataset import load_svhn, random_split_train_val\n",
    "from gradient_check import check_gradient\n",
    "from metrics import multiclass_accuracy \n",
    "import linear_classifer"
   ]
  },
  {
   "cell_type": "markdown",
   "metadata": {},
   "source": [
    "# Load the data\n",
    "\n",
    "Using SVHN."
   ]
  },
  {
   "cell_type": "code",
   "execution_count": 10,
   "metadata": {},
   "outputs": [],
   "source": [
    "def prepare_for_linear_classifier(train_X, test_X):\n",
    "    train_flat = train_X.reshape(train_X.shape[0], -1).astype(np.float) / 255.0\n",
    "    test_flat = test_X.reshape(test_X.shape[0], -1).astype(np.float) / 255.0\n",
    "    \n",
    "    # Subtract mean\n",
    "    mean_image = np.mean(train_flat, axis = 0)\n",
    "    train_flat -= mean_image\n",
    "    test_flat -= mean_image\n",
    "    \n",
    "    # Add another channel with ones as a bias term\n",
    "    # add 1 as the last column\n",
    "    train_flat_with_ones = np.hstack([train_flat, np.ones((train_X.shape[0], 1))])\n",
    "    test_flat_with_ones = np.hstack([test_flat, np.ones((test_X.shape[0], 1))])    \n",
    "    return train_flat_with_ones, test_flat_with_ones\n",
    "    \n",
    "train_X, train_y, test_X, test_y = load_svhn(\"data\", max_train=10000, max_test=1000)    \n",
    "train_X, test_X = prepare_for_linear_classifier(train_X, test_X)\n",
    "# Split train into train and val: train_X 9000, val_X - 1000\n",
    "train_X, train_y, val_X, val_y = random_split_train_val(train_X, train_y, num_val = 1000)"
   ]
  },
  {
   "cell_type": "markdown",
   "metadata": {},
   "source": [
    "# Let's play with gradients!\n",
    "\n",
    "All functions to claculate gradients will follow the same algorithm.  \n",
    "\n",
    "The input is the point where the function and its gradient need to be calculated. The output is the tuple of two values- function and analitical expression for the gradint (same dimension as the input) .\n",
    "```\n",
    "def f(x):\n",
    "    \"\"\"\n",
    "    Computes function and analytic gradient at x\n",
    "    \n",
    "    x: np array of float, input to the function\n",
    "    \n",
    "    Returns:\n",
    "    value: float, value of the function \n",
    "    grad: np array of float, same shape as x\n",
    "    \"\"\"\n",
    "    ...\n",
    "    \n",
    "    return value, grad\n",
    "```\n",
    "\n",
    "We'll start with calculating the numeric gradient `check_gradient` in `gradient_check.py`. This function takes input parameters outlined above, use `value`to calculate numeric gradient и compares it with the analytic one - they should match.\n",
    "\n",
    "Write the code that calculates numeric gradient for each coordinate. For analytic gradient calculation use so called two-point formula (https://en.wikipedia.org/wiki/Numerical_differentiation):\n",
    "\n",
    "![image](https://wikimedia.org/api/rest_v1/media/math/render/svg/22fc2c0a66c63560a349604f8b6b39221566236d)\n",
    "\n",
    "All functions in the next cell must undergo gradient check."
   ]
  },
  {
   "cell_type": "code",
   "execution_count": 11,
   "metadata": {
    "scrolled": true
   },
   "outputs": [
    {
     "name": "stdout",
     "output_type": "stream",
     "text": [
      "Gradient check passed!\n",
      "Gradient check passed!\n",
      "Gradient check passed!\n"
     ]
    },
    {
     "data": {
      "text/plain": [
       "True"
      ]
     },
     "execution_count": 11,
     "metadata": {},
     "output_type": "execute_result"
    }
   ],
   "source": [
    "# All the functions below should pass the gradient check\n",
    "\n",
    "def square(x):\n",
    "    return float(x*x), 2*x\n",
    "\n",
    "check_gradient(square, np.array([3.0]))\n",
    "\n",
    "def array_sum(x):\n",
    "    assert x.shape == (2,), x.shape\n",
    "    return np.sum(x), np.ones_like(x)\n",
    "\n",
    "check_gradient(array_sum, np.array([3.0, 2.0]))\n",
    "\n",
    "def array_2d_sum(x):\n",
    "    assert x.shape == (2,2)\n",
    "    return np.sum(x), np.ones_like(x)\n",
    "\n",
    "check_gradient(array_2d_sum, np.array([[3.0, 2.0], [1.0, 0.0]]))"
   ]
  },
  {
   "cell_type": "markdown",
   "metadata": {},
   "source": [
    "## We'll start writing functions, calculating analytic gradient\n",
    "\n",
    "We'll implement softmax function, that has input parameters estimates for each class and convert them to probabilities:\n",
    "![image](https://wikimedia.org/api/rest_v1/media/math/render/svg/e348290cf48ddbb6e9a6ef4e39363568b67c09d3)\n",
    "\n",
    "**Important:** In practice softmax deals with the exponents of potentially big numbers. This could lead to huge numbers in the nominator and denominator and, hence, loss of precision.\n",
    "\n",
    "Luckily this problem has a simple solution -- before calculating of softmax subtract max value of all estimates from all estimates:\n",
    "```\n",
    "predictions -= np.max(predictions)\n",
    "```\n",
    "(see - http://cs231n.github.io/linear-classify/#softmax, sectin `Practical issues: Numeric stability`)"
   ]
  },
  {
   "cell_type": "code",
   "execution_count": 12,
   "metadata": {},
   "outputs": [],
   "source": [
    "# Implementing softmax and cross-entropy for single sample\n",
    "probs = linear_classifer.softmax(np.array([-10, 0, 10]))\n",
    "\n",
    "# Make sure it works for big numbers too!\n",
    "probs = linear_classifer.softmax(np.array([1000, 0, 0]))\n",
    "assert np.isclose(probs[0], 1.0)"
   ]
  },
  {
   "cell_type": "markdown",
   "metadata": {},
   "source": [
    "Besides, we claculate cross-entropy loss, which we use as an error function.\n",
    "In general case cross-entropy is defined as:\n",
    "![image](https://wikimedia.org/api/rest_v1/media/math/render/svg/0cb6da032ab424eefdca0884cd4113fe578f4293)\n",
    "\n",
    "where x - all classes p(x) -true probability of belonging of sample to class x, and  принадлежности сэмпла классу x, а q(x) - probability of belonging of sample to class x predicted by the model .  \n",
    "In our case the sample belongs only to one class, for it p(x) equals 1, and for all other classes  - p(x) equals 0. \n",
    "This assumption simplifies the task!"
   ]
  },
  {
   "cell_type": "code",
   "execution_count": 13,
   "metadata": {},
   "outputs": [
    {
     "data": {
      "text/plain": [
       "10.00676044354712"
      ]
     },
     "execution_count": 13,
     "metadata": {},
     "output_type": "execute_result"
    }
   ],
   "source": [
    "probs = linear_classifer.softmax(np.array([-5, 0, 5]))\n",
    "#linear_classifer.cross_entropy_loss(probs, np.array([1]))\n",
    "linear_classifer.cross_entropy_loss(probs, 0)\n",
    "#linear_classifer.cross_entropy_loss(probs, 2)"
   ]
  },
  {
   "cell_type": "markdown",
   "metadata": {},
   "source": [
    "Now we can calculate gradient.\n",
    "\n",
    "It happens that gradient calculation become simpler if we cmbine all these functions in one, that first calculate probabilities through softmax and then use them to calculate loss function through cross-entropy loss.\n",
    "\n",
    "This function `softmax_with_cross_entropy` will return loss function and gradient function. We'll use `check_gradient` to confirm the correctness of our calculations."
   ]
  },
  {
   "cell_type": "code",
   "execution_count": 14,
   "metadata": {},
   "outputs": [
    {
     "name": "stdout",
     "output_type": "stream",
     "text": [
      "Gradient check passed!\n"
     ]
    },
    {
     "data": {
      "text/plain": [
       "True"
      ]
     },
     "execution_count": 14,
     "metadata": {},
     "output_type": "execute_result"
    }
   ],
   "source": [
    "# Implementing of combined function or softmax and cross entropy and produces gradient\n",
    "check_gradient(lambda x: linear_classifer.softmax_with_cross_entropy(x, 1), np.array([1, 0, 0], np.float))"
   ]
  },
  {
   "cell_type": "markdown",
   "metadata": {},
   "source": [
    "We'll use stochastic gradient descent or SGD that use sample batch. \n",
    "\n",
    "All our functions will receive a batch or matrix of dimensions `batch_size, num_classes`. The index of sample will be the first.\n",
    "\n",
    "Next step -to re-write the functions so that they support the batches.\n",
    "\n",
    "The final value of loss function must be a mean value over all samples in the batch."
   ]
  },
  {
   "cell_type": "code",
   "execution_count": 15,
   "metadata": {},
   "outputs": [
    {
     "name": "stdout",
     "output_type": "stream",
     "text": [
      "predictions [ 1.  2. -1.  1.]\n",
      "target_index [2]\n",
      "Gradient check passed!\n"
     ]
    },
    {
     "data": {
      "text/plain": [
       "True"
      ]
     },
     "execution_count": 15,
     "metadata": {},
     "output_type": "execute_result"
    }
   ],
   "source": [
    "np.random.seed(42)\n",
    "# Test batch_size = 1\n",
    "num_classes = 4\n",
    "batch_size = 1\n",
    "#predictions = np.random.randint(-1, 3, size=(batch_size, num_classes)).astype(np.float)\n",
    "predictions = np.array([ 1.,  2., -1.,  1.])\n",
    "print(\"predictions\",predictions)\n",
    "#target_index = np.random.randint(0, num_classes, size=(batch_size, 1)).astype(np.int)\n",
    "target_index =np.array([2])\n",
    "print(\"target_index\",target_index)\n",
    "check_gradient(lambda x: linear_classifer.softmax_with_cross_entropy(x, target_index), predictions)"
   ]
  },
  {
   "cell_type": "code",
   "execution_count": 16,
   "metadata": {
    "scrolled": true
   },
   "outputs": [
    {
     "name": "stdout",
     "output_type": "stream",
     "text": [
      "predictions [[ 1.  2. -1.  1.]\n",
      " [ 1.  2. -1. -1.]\n",
      " [ 1.  0.  1.  1.]]\n",
      "target_index [[2]\n",
      " [2]\n",
      " [3]]\n",
      "Gradient check passed!\n"
     ]
    },
    {
     "data": {
      "text/plain": [
       "True"
      ]
     },
     "execution_count": 16,
     "metadata": {},
     "output_type": "execute_result"
    }
   ],
   "source": [
    "# Test batch_size = 3\n",
    "num_classes = 4\n",
    "batch_size = 3\n",
    "predictions = np.random.randint(-1, 3, size=(batch_size, num_classes)).astype(np.float)\n",
    "print(\"predictions\",predictions)\n",
    "target_index = np.random.randint(0, num_classes, size=(batch_size, 1)).astype(np.int)\n",
    "print(\"target_index\",target_index)\n",
    "check_gradient(lambda x: linear_classifer.softmax_with_cross_entropy(x, target_index), predictions)\n"
   ]
  },
  {
   "cell_type": "code",
   "execution_count": 17,
   "metadata": {},
   "outputs": [
    {
     "name": "stdout",
     "output_type": "stream",
     "text": [
      "[[9.99999996e-01 2.06115361e-09 2.06115361e-09]\n",
      " [1.00000000e+00 0.00000000e+00 0.00000000e+00]]\n"
     ]
    }
   ],
   "source": [
    "# Make sure maximum subtraction for numberic stability is done separately for every sample in the batch\n",
    "probs = linear_classifer.softmax(np.array([[20,0,0], [1000, 0, 0]]))\n",
    "print(probs)\n",
    "assert np.all(np.isclose(probs[:, 0], 1.0))"
   ]
  },
  {
   "cell_type": "markdown",
   "metadata": {},
   "source": [
    "### Finally, linear classifier!\n",
    "\n",
    "Softmax и cross-entropy receves input parameters that are estimates of linear classifier .\n",
    "\n",
    "It does it very simple: each class is a weighted sum of pixels of the pictures. The resulting nuber is an estimate for the class that is an input parameter for softmax.\n",
    "\n",
    "Thus, linear classifier is a product of pixel vector and matrix W with the shape of `num_features, num_classes`. This approach is easily extended to the case of batch of vectors of size of X `batch_size, num_features`:\n",
    "\n",
    "`predictions = X * W`, where `*` - product of matrices.\n",
    "\n",
    "Implement`linear_softmax` in `linear_classifer.py`"
   ]
  },
  {
   "cell_type": "code",
   "execution_count": 18,
   "metadata": {},
   "outputs": [
    {
     "name": "stdout",
     "output_type": "stream",
     "text": [
      "X [[-1. -1.  1.]\n",
      " [ 0.  1.  1.]]\n",
      "W [[ 1.  2.]\n",
      " [-1.  1.]\n",
      " [ 1.  2.]]\n",
      "target_index [[0]\n",
      " [0]]\n",
      "loss 3.1755153626167147 dW [[ 0.11920292 -0.11920292]\n",
      " [-0.8333712   0.8333712 ]\n",
      " [-1.07177705  1.07177705]]\n",
      "target_index [[2]\n",
      " [2]\n",
      " [3]]\n",
      "Gradient check passed!\n"
     ]
    },
    {
     "data": {
      "text/plain": [
       "True"
      ]
     },
     "execution_count": 18,
     "metadata": {},
     "output_type": "execute_result"
    }
   ],
   "source": [
    "# TODO Implement linear_softmax function that uses softmax with cross-entropy for linear classifier\n",
    "batch_size = 2\n",
    "num_classes = 2\n",
    "num_features = 3\n",
    "np.random.seed(42)\n",
    "W = np.random.randint(-1, 3, size=(num_features, num_classes)).astype(np.float)\n",
    "X = np.random.randint(-1, 3, size=(batch_size, num_features)).astype(np.float)\n",
    "target_index1 = np.random.randint(0, num_classes, size=(batch_size, 1)).astype(np.int)\n",
    "\n",
    "print(\"X\",X)\n",
    "print(\"W\",W)\n",
    "print(\"target_index\",target_index1)\n",
    "loss, dW = linear_classifer.linear_softmax(X, W, target_index1)\n",
    "print(\"loss\",loss,\"dW\",dW)\n",
    "print(\"target_index\",target_index)\n",
    "check_gradient(lambda w: linear_classifer.linear_softmax(X, w, target_index1), W)"
   ]
  },
  {
   "cell_type": "markdown",
   "metadata": {},
   "source": [
    "### Regularisation\n",
    "\n",
    "We'll use L2 regularization for the weights as part of the general loss function.\n",
    "\n",
    "l2_reg_loss = regularization_strength * sum<sub>ij</sub> W[i, j]<sup>2</sup>\n"
   ]
  },
  {
   "cell_type": "code",
   "execution_count": 19,
   "metadata": {},
   "outputs": [
    {
     "name": "stdout",
     "output_type": "stream",
     "text": [
      "Gradient check passed!\n"
     ]
    },
    {
     "data": {
      "text/plain": [
       "True"
      ]
     },
     "execution_count": 19,
     "metadata": {},
     "output_type": "execute_result"
    }
   ],
   "source": [
    "# Implementing of l2_regularization function\n",
    "linear_classifer.l2_regularization(W, 0.01)\n",
    "check_gradient(lambda w: linear_classifer.l2_regularization(w, 0.01), W)"
   ]
  },
  {
   "cell_type": "markdown",
   "metadata": {},
   "source": [
    "# Training!"
   ]
  },
  {
   "cell_type": "code",
   "execution_count": 20,
   "metadata": {
    "scrolled": false
   },
   "outputs": [],
   "source": [
    "# TODO: Implement LinearSoftmaxClassifier.fit function\n",
    "classifier = linear_classifer.LinearSoftmaxClassifier()\n",
    "loss_history = classifier.fit(train_X, train_y, epochs=10, learning_rate=1e-3, batch_size=300, reg=1e1)"
   ]
  },
  {
   "cell_type": "code",
   "execution_count": 21,
   "metadata": {},
   "outputs": [
    {
     "data": {
      "text/plain": [
       "[<matplotlib.lines.Line2D at 0x104e13d00>]"
      ]
     },
     "execution_count": 21,
     "metadata": {},
     "output_type": "execute_result"
    },
    {
     "data": {
      "image/png": "[encoded data removed]",
      "text/plain": [
       "<Figure size 432x288 with 1 Axes>"
      ]
     },
     "metadata": {
      "needs_background": "light"
     },
     "output_type": "display_data"
    }
   ],
   "source": [
    "# let's look at the loss history!\n",
    "plt.plot(loss_history)"
   ]
  },
  {
   "cell_type": "code",
   "execution_count": 22,
   "metadata": {},
   "outputs": [
    {
     "name": "stdout",
     "output_type": "stream",
     "text": [
      "[0.31551177 0.20330039 0.42353186 0.21439832]\n"
     ]
    },
    {
     "data": {
      "text/plain": [
       "array([2, 4, 3, 4])"
      ]
     },
     "execution_count": 22,
     "metadata": {},
     "output_type": "execute_result"
    }
   ],
   "source": [
    "y=np.array([[0.11244485, 0.12054929, 0.31551177, 0.1267941 , 0.25395222],\n",
    "       [0.11335934, 0.18233905, 0.1999285 , 0.12207216, 0.20330039],\n",
    "       [0.11637693, 0.13970159, 0.26050083, 0.42353186, 0.27269168],\n",
    "       [0.15453344, 0.13717516, 0.14920566, 0.18677121, 0.21439832]])\n",
    "b = np.max(y, axis=1)\n",
    "print(b)\n",
    "c=np.argmax(y, axis=1)\n",
    "c"
   ]
  },
  {
   "cell_type": "code",
   "execution_count": 23,
   "metadata": {},
   "outputs": [
    {
     "name": "stdout",
     "output_type": "stream",
     "text": [
      "Accuracy:  0.177\n",
      "Accuracy after training for 100 epochs:  0.19\n"
     ]
    }
   ],
   "source": [
    "# Let's check how it performs on validation set\n",
    "pred = classifier.predict(val_X)\n",
    "accuracy = multiclass_accuracy(pred, val_y)\n",
    "print(\"Accuracy: \", accuracy)\n",
    "\n",
    "# Now, let's train more and see if it performs better\n",
    "classifier.fit(train_X, train_y, epochs=100, learning_rate=1e-3, batch_size=300, reg=1e1)\n",
    "pred = classifier.predict(val_X)\n",
    "accuracy = multiclass_accuracy(pred, val_y)\n",
    "print(\"Accuracy after training for 100 epochs: \", accuracy)"
   ]
  },
  {
   "cell_type": "markdown",
   "metadata": {},
   "source": [
    "### We'll use cross-validation to choose the hyper-parameter.\n",
    "\n",
    "This time to save time we'll use one split for training and validation data.\n",
    "\n",
    "We need to choose two hyper parameters! Do not limit yourself with the initial choice.  \n",
    "Try to get accuracy more than **20%** on validation data."
   ]
  },
  {
   "cell_type": "code",
   "execution_count": 24,
   "metadata": {},
   "outputs": [
    {
     "name": "stdout",
     "output_type": "stream",
     "text": [
      "0.252 (<linear_classifer.LinearSoftmaxClassifier object at 0x11603d130>, 1e-05, 0.01)\n",
      "0.251 (<linear_classifer.LinearSoftmaxClassifier object at 0x11603d130>, 1e-05, 0.0001)\n",
      "0.25 (<linear_classifer.LinearSoftmaxClassifier object at 0x11603d130>, 1e-06, 1e-06)\n",
      "0.249 (<linear_classifer.LinearSoftmaxClassifier object at 0x11603d130>, 1e-06, 1e-07)\n",
      "0.248 (<linear_classifer.LinearSoftmaxClassifier object at 0x11603d130>, 1e-05, 1e-06)\n",
      "0.247 (<linear_classifer.LinearSoftmaxClassifier object at 0x11603d130>, 0.0001, 1e-07)\n",
      "0.246 (<linear_classifer.LinearSoftmaxClassifier object at 0x11603d130>, 0.0001, 0.0001)\n",
      "0.245 (<linear_classifer.LinearSoftmaxClassifier object at 0x11603d130>, 0.0001, 0.001)\n",
      "0.243 (<linear_classifer.LinearSoftmaxClassifier object at 0x11603d130>, 0.0001, 0.1)\n",
      "0.242 (<linear_classifer.LinearSoftmaxClassifier object at 0x11603d130>, 0.0001, 0.01)\n",
      "0.241 (<linear_classifer.LinearSoftmaxClassifier object at 0x11603d130>, 0.0001, 1)\n",
      "0.214 (<linear_classifer.LinearSoftmaxClassifier object at 0x11603d130>, 0.001, 1e-07)\n",
      "0.209 (<linear_classifer.LinearSoftmaxClassifier object at 0x11603d130>, 0.001, 0.01)\n",
      "0.202 (<linear_classifer.LinearSoftmaxClassifier object at 0x11603d130>, 0.001, 0.0001)\n",
      "0.189 (<linear_classifer.LinearSoftmaxClassifier object at 0x11603d130>, 0.001, 0.001)\n",
      "0.188 (<linear_classifer.LinearSoftmaxClassifier object at 0x11603d130>, 0.001, 1e-06)\n",
      "0.186 (<linear_classifer.LinearSoftmaxClassifier object at 0x11603d130>, 0.001, 1)\n",
      "0.176 (<linear_classifer.LinearSoftmaxClassifier object at 0x11603d130>, 0.01, 1e-06)\n",
      "0.152 (<linear_classifer.LinearSoftmaxClassifier object at 0x11603d130>, 0.01, 0.0001)\n",
      "0.143 (<linear_classifer.LinearSoftmaxClassifier object at 0x11603d130>, 0.01, 0.001)\n",
      "0.141 (<linear_classifer.LinearSoftmaxClassifier object at 0x11603d130>, 0.01, 0.1)\n",
      "0.124 (<linear_classifer.LinearSoftmaxClassifier object at 0x11603d130>, 0.01, 0.01)\n",
      "0.093 (<linear_classifer.LinearSoftmaxClassifier object at 0x11603d130>, 0.01, 1)\n"
     ]
    }
   ],
   "source": [
    "import itertools\n",
    "num_epochs = 200\n",
    "batch_size = 300\n",
    "\n",
    "learning_rates = [1e-2, 1e-3, 1e-4, 1e-5, 1e-6]\n",
    "reg_strengths = [1, 0.1, 1e-2,1e-3,1e-4, 1e-5, 1e-6, 1e-7]\n",
    "\n",
    "best_classifier = None\n",
    "best_val_accuracy = None\n",
    "\n",
    "# TODO use validation set to find the best hyperparameters\n",
    "# hint: for best results, you might need to try more values for learning rate and regularization strength \n",
    "# than provided initially\n",
    "ac_to_params = {}\n",
    "indexes = list(itertools.product(learning_rates, reg_strengths))\n",
    "for l_rate, reg_st in indexes:\n",
    "    classifier.fit(train_X, train_y, batch_size=300, learning_rate=l_rate, reg=reg_st, epochs=100, )\n",
    "    \n",
    "    pred = classifier.predict(val_X)\n",
    "    accuracy = multiclass_accuracy(pred, val_y)\n",
    "    ac_to_params[accuracy] = (classifier,l_rate,reg_st)\n",
    "    \n",
    "for l in sorted(ac_to_params, reverse = True):\n",
    "    print(l,ac_to_params[l])\n"
   ]
  },
  {
   "cell_type": "code",
   "execution_count": 25,
   "metadata": {},
   "outputs": [
    {
     "name": "stdout",
     "output_type": "stream",
     "text": [
      "best validation accuracy achieved: 25\n",
      "<linear_classifer.LinearSoftmaxClassifier object at 0x11603d130>\n",
      "1e-05\n",
      "0.01\n"
     ]
    }
   ],
   "source": [
    "(best_val_accuracy,(best_classifier,best_learning_rate, best_reg_strength))=sorted(ac_to_params.items(), key = \n",
    "             lambda kv: kv[0], reverse = True)[0]\n",
    "best_val_accuracy = best_val_accuracy*100\n",
    "print('best validation accuracy achieved: %d' % best_val_accuracy)\n",
    "print(best_classifier)\n",
    "print(best_learning_rate)\n",
    "print(best_reg_strength)\n"
   ]
  },
  {
   "cell_type": "markdown",
   "metadata": {},
   "source": [
    "# What is the accuracy for the test data?"
   ]
  },
  {
   "cell_type": "code",
   "execution_count": 26,
   "metadata": {},
   "outputs": [
    {
     "name": "stdout",
     "output_type": "stream",
     "text": [
      "Linear softmax classifier test set accuracy: 20\n"
     ]
    }
   ],
   "source": [
    "test_pred = best_classifier.predict(test_X)\n",
    "test_accuracy = multiclass_accuracy(test_pred, test_y)\n",
    "test_accuracy = test_accuracy *100\n",
    "print('Linear softmax classifier test set accuracy: %d' % (test_accuracy, ))"
   ]
  },
  {
   "cell_type": "code",
   "execution_count": null,
   "metadata": {},
   "outputs": [],
   "source": []
  }
 ],
 "metadata": {
  "kernelspec": {
   "display_name": "Python 3",
   "language": "python",
   "name": "python3"
  },
  "language_info": {
   "codemirror_mode": {
    "name": "ipython",
    "version": 3
   },
   "file_extension": ".py",
   "mimetype": "text/x-python",
   "name": "python",
   "nbconvert_exporter": "python",
   "pygments_lexer": "ipython3",
   "version": "3.8.3"
  }
 },
 "nbformat": 4,
 "nbformat_minor": 2
}
