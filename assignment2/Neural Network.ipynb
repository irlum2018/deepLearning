{
 "cells": [
  {
   "cell_type": "markdown",
   "metadata": {},
   "source": [
    "# Assignment 2.1 - Neural Nets \n",
    "\n",
    "In this assignment you implement and train a real NN!\n",
    "\n",
    "It will be extension of the last task - you neeed to stack a few NN together!\n",
    "\n",
    "<img src=\"https://i.redd.it/n9fgba8b0qr01.png\" alt=\"Stack_more_layers\" width=\"400px\"/>"
   ]
  },
  {
   "cell_type": "code",
   "execution_count": 1,
   "metadata": {},
   "outputs": [],
   "source": [
    "import numpy as np\n",
    "import matplotlib.pyplot as plt\n",
    "\n",
    "%matplotlib inline\n",
    "\n",
    "%load_ext autoreload\n",
    "%autoreload 2"
   ]
  },
  {
   "cell_type": "code",
   "execution_count": 2,
   "metadata": {},
   "outputs": [],
   "source": [
    "from dataset import load_svhn, random_split_train_val\n",
    "from gradient_check import check_layer_gradient, check_layer_param_gradient, check_model_gradient\n",
    "from layers import FullyConnectedLayer, ReLULayer\n",
    "from model import TwoLayerNet\n",
    "from trainer import Trainer, Dataset\n",
    "from optim import SGD, MomentumSGD\n",
    "from metrics import multiclass_accuracy"
   ]
  },
  {
   "cell_type": "markdown",
   "metadata": {},
   "source": [
    "# Load data \n",
    "\n",
    "Split it into training and validation sets."
   ]
  },
  {
   "cell_type": "code",
   "execution_count": 3,
   "metadata": {},
   "outputs": [],
   "source": [
    "def prepare_for_neural_network(train_X, test_X):\n",
    "    train_flat = train_X.reshape(train_X.shape[0], -1).astype(np.float) / 255.0\n",
    "    test_flat = test_X.reshape(test_X.shape[0], -1).astype(np.float) / 255.0\n",
    "    \n",
    "    # Subtract mean\n",
    "    mean_image = np.mean(train_flat, axis = 0)\n",
    "    train_flat -= mean_image\n",
    "    test_flat -= mean_image\n",
    "    \n",
    "    return train_flat, test_flat\n",
    "    \n",
    "train_X, train_y, test_X, test_y = load_svhn(\"data\", max_train=10000, max_test=1000)    \n",
    "train_X, test_X = prepare_for_neural_network(train_X, test_X)\n",
    "# Split train into train and val\n",
    "train_X, train_y, val_X, val_y = random_split_train_val(train_X, train_y, num_val = 1000)"
   ]
  },
  {
   "cell_type": "markdown",
   "metadata": {},
   "source": [
    "# Building step by step\n",
    "\n",
    "We are going to implement the necessary layers sequentially. Every layer should implement:\n",
    "- forward pass, that generates layers output and remembers necessary data\n",
    "- backward pass, that receives the gradient wrt the layer's output and calculates the gradient wtr input and parameters\n"
   ]
  },
  {
   "cell_type": "code",
   "execution_count": 4,
   "metadata": {
    "scrolled": false
   },
   "outputs": [
    {
     "name": "stdout",
     "output_type": "stream",
     "text": [
      "Gradient check passed!\n"
     ]
    }
   ],
   "source": [
    "# TODO: Implement ReLULayer layer in layers.py\n",
    "# Note: you'll need to copy implementation of the gradient_check function from the previous assignment\n",
    "\n",
    "X = np.array([[1,-2,3],\n",
    "              [-1, 2, 0.1]\n",
    "              ])\n",
    "\n",
    "assert check_layer_gradient(ReLULayer(), X)"
   ]
  },
  {
   "cell_type": "markdown",
   "metadata": {},
   "source": [
    "Let's implement fully connected layer, that has two arrays of parameters: W (weights) and B (bias).\n",
    "\n",
    "Our layers will be using special class of `Param` for all parameters. These params wil use all paramaters and their gradients calculated during back propagation.\n",
    "\n",
    "This helps to sum gradients from different parts of loss function,i.e, cross-entropy loss и regularization loss."
   ]
  },
  {
   "cell_type": "code",
   "execution_count": 5,
   "metadata": {},
   "outputs": [
    {
     "name": "stdout",
     "output_type": "stream",
     "text": [
      "Gradient check passed!\n",
      "Gradient check passed!\n",
      "Gradient check passed!\n"
     ]
    }
   ],
   "source": [
    "# Implement FullyConnected layer forward and backward methods\n",
    "assert check_layer_gradient(FullyConnectedLayer(3, 4), X)\n",
    "# Implement storing gradients for W and B\n",
    "assert check_layer_param_gradient(FullyConnectedLayer(3, 4), X, 'W')\n",
    "assert check_layer_param_gradient(FullyConnectedLayer(3, 4), X, 'B')"
   ]
  },
  {
   "cell_type": "markdown",
   "metadata": {},
   "source": [
    "## Creating NN\n",
    "Now we implement the simplest NN with two fully connected layers and non-linear layer ReLU. A two-layer fully-connected neural network. The net has an input dimension of N, a hidden layer dimension of H, and performs classification over C classes. We train the network with a softmax loss function and L2 regularization on the weight matrices. The network uses a ReLU nonlinearity after the first fully connected layer.\n",
    "\n",
    "  In other words, the network has the following architecture:\n",
    "\n",
    "  - input - fully connected layer (W1: shape (D, H)\n",
    "    b1: shape (H,))\n",
    "  - ReLU \n",
    "  - fully connected layer (W2: shape (H, C)\n",
    "    b2: shape (C,))\n",
    "  - output - softmax\n",
    "  \n",
    "Function `compute_loss_and_gradients` should implement forward and back propagation through both layers to calculate gradients.\n",
    "\n",
    "Don't forget to empty the gradients at the start of the function."
   ]
  },
  {
   "cell_type": "code",
   "execution_count": 6,
   "metadata": {},
   "outputs": [
    {
     "name": "stdout",
     "output_type": "stream",
     "text": [
      "(3,)\n",
      "[[[1 2 3]]]\n"
     ]
    },
    {
     "data": {
      "text/plain": [
       "(1, 3)"
      ]
     },
     "execution_count": 6,
     "metadata": {},
     "output_type": "execute_result"
    }
   ],
   "source": [
    "b = np.array([1,2,3])\n",
    "print(b.shape)\n",
    "c = np.reshape(b,(-1,3))\n",
    "\n",
    "d = c[:, np.newaxis]\n",
    "print(d)\n",
    "np.array(c).shape"
   ]
  },
  {
   "cell_type": "code",
   "execution_count": 7,
   "metadata": {},
   "outputs": [
    {
     "name": "stdout",
     "output_type": "stream",
     "text": [
      "[[ 1  2  3]\n",
      " [-1  6  4]]\n",
      "[[0 8 7]]\n"
     ]
    }
   ],
   "source": [
    "b = np.array([[1,2,3], [-1,6,4]])\n",
    "print(b)\n",
    "c = np.sum(b, axis=0, keepdims=True)\n",
    "print(c)"
   ]
  },
  {
   "cell_type": "code",
   "execution_count": 8,
   "metadata": {},
   "outputs": [
    {
     "name": "stdout",
     "output_type": "stream",
     "text": [
      "2.30062671713171\n"
     ]
    }
   ],
   "source": [
    "# TODO: In model.py, implement compute_loss_and_gradients function\n",
    "model = TwoLayerNet(n_input = train_X.shape[1], n_output = 10, hidden_layer_size = 3, reg = 0)\n",
    "loss = model.compute_loss_and_gradients(train_X[:2], train_y[:2])\n",
    "print(loss)\n"
   ]
  },
  {
   "cell_type": "code",
   "execution_count": 9,
   "metadata": {},
   "outputs": [
    {
     "name": "stdout",
     "output_type": "stream",
     "text": [
      "[2 1]\n",
      "[0 1 1]\n"
     ]
    }
   ],
   "source": [
    "b = np.array([[1,2,3], [-1,6,4]])\n",
    "print(np.argmax(b,axis=1))\n",
    "print(np.argmax(b,axis=0))"
   ]
  },
  {
   "cell_type": "code",
   "execution_count": 10,
   "metadata": {},
   "outputs": [
    {
     "name": "stdout",
     "output_type": "stream",
     "text": [
      "Checking gradient for W0\n",
      "Gradient check passed!\n",
      "Checking gradient for B0\n",
      "Gradient check passed!\n",
      "Checking gradient for W1\n",
      "Gradient check passed!\n",
      "Checking gradient for B1\n",
      "Gradient check passed!\n"
     ]
    },
    {
     "data": {
      "text/plain": [
       "True"
      ]
     },
     "execution_count": 10,
     "metadata": {},
     "output_type": "execute_result"
    }
   ],
   "source": [
    "# TODO Now implement backward pass and aggregate all of the params\n",
    "check_model_gradient(model, train_X[:2], train_y[:2])"
   ]
  },
  {
   "cell_type": "markdown",
   "metadata": {},
   "source": [
    "Let's add regularisation - it should add to loss and gradients."
   ]
  },
  {
   "cell_type": "code",
   "execution_count": 11,
   "metadata": {},
   "outputs": [
    {
     "name": "stdout",
     "output_type": "stream",
     "text": [
      "Checking gradient for W0\n",
      "Gradient check passed!\n",
      "Checking gradient for B0\n",
      "Gradient check passed!\n",
      "Checking gradient for W1\n",
      "Gradient check passed!\n",
      "Checking gradient for B1\n",
      "Gradient check passed!\n"
     ]
    },
    {
     "data": {
      "text/plain": [
       "True"
      ]
     },
     "execution_count": 11,
     "metadata": {},
     "output_type": "execute_result"
    }
   ],
   "source": [
    "# TODO Now implement l2 regularization in the forward and backward pass\n",
    "model_with_reg = TwoLayerNet(n_input = train_X.shape[1], n_output = 10, hidden_layer_size = 3, reg = 1e1)\n",
    "loss_with_reg = model_with_reg.compute_loss_and_gradients(train_X[:2], train_y[:2])\n",
    "assert loss_with_reg > loss and not np.isclose(loss_with_reg, loss), \\\n",
    "    \"Loss with regularization (%2.4f) should be higher than without it (%2.4f)!\" % (loss, loss_with_reg)\n",
    "\n",
    "check_model_gradient(model_with_reg, train_X[:2], train_y[:2])"
   ]
  },
  {
   "cell_type": "markdown",
   "metadata": {},
   "source": [
    "Implement prediction function (calculate predictions) on new data.\n",
    "\n",
    "What accuracy are we expecting before training?"
   ]
  },
  {
   "cell_type": "code",
   "execution_count": 12,
   "metadata": {},
   "outputs": [
    {
     "data": {
      "text/plain": [
       "0.1"
      ]
     },
     "execution_count": 12,
     "metadata": {},
     "output_type": "execute_result"
    }
   ],
   "source": [
    "# Finally, implement predict function!\n",
    "\n",
    "# TODO: Implement predict function\n",
    "# What would be the value we expect?\n",
    "multiclass_accuracy(model_with_reg.predict(train_X[:30]), train_y[:30]) \n"
   ]
  },
  {
   "cell_type": "markdown",
   "metadata": {},
   "source": [
    "# Finsh the code for training process\n",
    "\n",
    "If implemented corrected, value of loss should get smaller with every epoch even if slowly. Don't worry about validation accuracy."
   ]
  },
  {
   "cell_type": "code",
   "execution_count": 13,
   "metadata": {},
   "outputs": [
    {
     "name": "stdout",
     "output_type": "stream",
     "text": [
      "Loss: 2.302029, Train accuracy: 0.196667, val accuracy: 0.206000\n",
      "Loss: 2.301685, Train accuracy: 0.196667, val accuracy: 0.206000\n",
      "Loss: 2.301851, Train accuracy: 0.148222, val accuracy: 0.140000\n",
      "Loss: 2.302623, Train accuracy: 0.196667, val accuracy: 0.206000\n"
     ]
    }
   ],
   "source": [
    "model = TwoLayerNet(n_input = train_X.shape[1], n_output = 10, hidden_layer_size = 100, reg = 1e1)\n",
    "dataset = Dataset(train_X, train_y, val_X, val_y)\n",
    "trainer = Trainer(model, dataset, SGD(), num_epochs =4, learning_rate = 1e-2)\n",
    "\n",
    "# TODO Implement missing pieces in Trainer.fit function\n",
    "# You should expect loss to go down every epoch, even if it's slow\n",
    "loss_history, train_history, val_history = trainer.fit()"
   ]
  },
  {
   "cell_type": "code",
   "execution_count": 14,
   "metadata": {},
   "outputs": [
    {
     "data": {
      "text/plain": [
       "[<matplotlib.lines.Line2D at 0x12ada75e0>]"
      ]
     },
     "execution_count": 14,
     "metadata": {},
     "output_type": "execute_result"
    },
    {
     "data": {
      "image/png": "[encoded data removed]",
      "text/plain": [
       "<Figure size 432x288 with 1 Axes>"
      ]
     },
     "metadata": {
      "needs_background": "light"
     },
     "output_type": "display_data"
    }
   ],
   "source": [
    "plt.plot(train_history)\n",
    "plt.plot(val_history)"
   ]
  },
  {
   "cell_type": "markdown",
   "metadata": {},
   "source": [
    "# Improving training process\n",
    "\n",
    "We implement a few key optimisatons necessary for the training of the contemporary NN."
   ]
  },
  {
   "cell_type": "markdown",
   "metadata": {},
   "source": [
    "## Learning rate decay\n",
    "\n",
    "one of the necessary optimisation during NN training - gradual decrease speed of training (learning rate) every N epochs by d (decay). N and d are hyper parameters and should be chosen according to its eeficacy on  validation data. \n",
    "\n",
    "Let N be 1."
   ]
  },
  {
   "cell_type": "code",
   "execution_count": 15,
   "metadata": {},
   "outputs": [
    {
     "name": "stdout",
     "output_type": "stream",
     "text": [
      "Loss: 2.304270, Train accuracy: 0.196667, val accuracy: 0.206000\n",
      "Loss: 2.285685, Train accuracy: 0.196667, val accuracy: 0.206000\n",
      "Loss: 2.218967, Train accuracy: 0.196667, val accuracy: 0.206000\n",
      "Loss: 2.332656, Train accuracy: 0.196667, val accuracy: 0.206000\n",
      "Loss: 2.275270, Train accuracy: 0.196667, val accuracy: 0.206000\n"
     ]
    }
   ],
   "source": [
    "# TODO Implement learning rate decay inside Trainer.fit method\n",
    "# Decay should happen once per epoch\n",
    "\n",
    "model = TwoLayerNet(n_input = train_X.shape[1], n_output = 10, hidden_layer_size = 100, reg = 1e-1)\n",
    "dataset = Dataset(train_X, train_y, val_X, val_y)\n",
    "trainer = Trainer(model, dataset, SGD(), num_epochs =5, learning_rate_decay=0.99)\n",
    "\n",
    "initial_learning_rate = trainer.learning_rate\n",
    "loss_history, train_history, val_history = trainer.fit()\n",
    "\n",
    "assert trainer.learning_rate < initial_learning_rate, \"Learning rate should've been reduced\"\n",
    "assert trainer.learning_rate > 0.5*initial_learning_rate, \"Learning rate shouldn'tve been reduced that much!\""
   ]
  },
  {
   "cell_type": "code",
   "execution_count": 16,
   "metadata": {},
   "outputs": [
    {
     "data": {
      "text/plain": [
       "[<matplotlib.lines.Line2D at 0x12ae8fa60>]"
      ]
     },
     "execution_count": 16,
     "metadata": {},
     "output_type": "execute_result"
    },
    {
     "data": {
      "image/png": "[encoded data removed]",
      "text/plain": [
       "<Figure size 432x288 with 1 Axes>"
      ]
     },
     "metadata": {
      "needs_background": "light"
     },
     "output_type": "display_data"
    }
   ],
   "source": [
    "plt.plot(train_history)\n",
    "plt.plot(val_history)"
   ]
  },
  {
   "cell_type": "markdown",
   "metadata": {},
   "source": [
    "# Momentum SGD\n",
    "\n",
    "Next big class of optimisations - using more effective method of gradient descend. We implement one of them - Momentum SGD.\n",
    "\n",
    "This method keeps speed of descens, uses gradient for its measurement at every step and changes the weights at every step and also changes weights proportionally the speed.\n",
    "(Physics Analogy: Gradients will determine the acceleration instead of the speed, but the presence of friction.)\n",
    "\n",
    "```\n",
    "velocity = momentum * velocity - learning_rate * gradient \n",
    "w = w + velocity\n",
    "```\n",
    "\n",
    "`momentum` the decay, also hyper-parameter гиперпараметром (luckily,the default values is good, typically the values are in the range -- 0.8-0.99).\n",
    "\n",
    "Few useful references, where method is explained in details:  \n",
    "http://cs231n.github.io/neural-networks-3/#sgd  \n",
    "https://distill.pub/2017/momentum/"
   ]
  },
  {
   "cell_type": "code",
   "execution_count": 17,
   "metadata": {},
   "outputs": [
    {
     "name": "stdout",
     "output_type": "stream",
     "text": [
      "Loss: 2.325217, Train accuracy: 0.196667, val accuracy: 0.206000\n",
      "Loss: 2.292303, Train accuracy: 0.196667, val accuracy: 0.206000\n",
      "Loss: 2.298031, Train accuracy: 0.196667, val accuracy: 0.206000\n",
      "Loss: 2.309406, Train accuracy: 0.196667, val accuracy: 0.206000\n",
      "Loss: 2.298464, Train accuracy: 0.196667, val accuracy: 0.206000\n",
      "Loss: 2.290798, Train accuracy: 0.196667, val accuracy: 0.206000\n",
      "Loss: 2.308250, Train accuracy: 0.196667, val accuracy: 0.206000\n",
      "Loss: 2.282150, Train accuracy: 0.196667, val accuracy: 0.206000\n",
      "Loss: 2.277601, Train accuracy: 0.196667, val accuracy: 0.206000\n",
      "Loss: 2.282915, Train accuracy: 0.196667, val accuracy: 0.206000\n",
      "Loss: 2.345439, Train accuracy: 0.196667, val accuracy: 0.206000\n",
      "Loss: 2.300894, Train accuracy: 0.196667, val accuracy: 0.206000\n",
      "Loss: 2.249748, Train accuracy: 0.196667, val accuracy: 0.206000\n",
      "Loss: 2.305173, Train accuracy: 0.196667, val accuracy: 0.206000\n",
      "Loss: 2.246124, Train accuracy: 0.196667, val accuracy: 0.206000\n",
      "Loss: 2.289285, Train accuracy: 0.196667, val accuracy: 0.206000\n",
      "Loss: 2.275497, Train accuracy: 0.196667, val accuracy: 0.206000\n",
      "Loss: 2.314428, Train accuracy: 0.196667, val accuracy: 0.206000\n",
      "Loss: 2.312210, Train accuracy: 0.196667, val accuracy: 0.206000\n",
      "Loss: 2.321143, Train accuracy: 0.196667, val accuracy: 0.206000\n"
     ]
    }
   ],
   "source": [
    "# TODO: Implement MomentumSGD.update function in optim.py\n",
    "\n",
    "model = TwoLayerNet(n_input = train_X.shape[1], n_output = 10, hidden_layer_size = 100, reg = 1e-1)\n",
    "dataset = Dataset(train_X, train_y, val_X, val_y)\n",
    "trainer = Trainer(model, dataset, MomentumSGD(), learning_rate=1e-4, learning_rate_decay=0.99)\n",
    "\n",
    "# You should see even better results than before!\n",
    "loss_history, train_history, val_history = trainer.fit()"
   ]
  },
  {
   "cell_type": "code",
   "execution_count": 18,
   "metadata": {},
   "outputs": [
    {
     "data": {
      "text/plain": [
       "[<matplotlib.lines.Line2D at 0x12af28cd0>]"
      ]
     },
     "execution_count": 18,
     "metadata": {},
     "output_type": "execute_result"
    },
    {
     "data": {
      "image/png": "[encoded data removed]",
      "text/plain": [
       "<Figure size 432x288 with 1 Axes>"
      ]
     },
     "metadata": {
      "needs_background": "light"
     },
     "output_type": "display_data"
    }
   ],
   "source": [
    "plt.plot(train_history)\n",
    "plt.plot(val_history)"
   ]
  },
  {
   "cell_type": "markdown",
   "metadata": {},
   "source": [
    "# Let's train it!"
   ]
  },
  {
   "cell_type": "markdown",
   "metadata": {},
   "source": [
    "## Last test - overfit on a small data set\n",
    "\n",
    "The good way to check if everything was implemented right - to over-fit NN on small data set.  \n",
    "Our model is powerful enough to predict a small data set ideally, therefore we expect to reach 100% quickly on training data set. \n",
    "\n",
    "If this is not happening you made a mistake somewhere!"
   ]
  },
  {
   "cell_type": "code",
   "execution_count": 26,
   "metadata": {},
   "outputs": [
    {
     "name": "stdout",
     "output_type": "stream",
     "text": [
      "Loss: 2.320053, Train accuracy: 0.200000, val accuracy: 0.066667\n",
      "Loss: 2.303593, Train accuracy: 0.200000, val accuracy: 0.066667\n",
      "Loss: 2.323044, Train accuracy: 0.200000, val accuracy: 0.066667\n",
      "Loss: 2.294019, Train accuracy: 0.333333, val accuracy: 0.066667\n",
      "Loss: 2.246865, Train accuracy: 0.200000, val accuracy: 0.066667\n",
      "Loss: 2.305646, Train accuracy: 0.266667, val accuracy: 0.000000\n",
      "Loss: 2.198033, Train accuracy: 0.266667, val accuracy: 0.000000\n",
      "Loss: 2.217674, Train accuracy: 0.266667, val accuracy: 0.000000\n",
      "Loss: 1.934065, Train accuracy: 0.400000, val accuracy: 0.000000\n",
      "Loss: 1.862267, Train accuracy: 0.400000, val accuracy: 0.000000\n",
      "Loss: 1.736181, Train accuracy: 0.400000, val accuracy: 0.000000\n",
      "Loss: 2.224294, Train accuracy: 0.400000, val accuracy: 0.000000\n",
      "Loss: 1.879045, Train accuracy: 0.400000, val accuracy: 0.000000\n",
      "Loss: 1.213779, Train accuracy: 0.333333, val accuracy: 0.000000\n",
      "Loss: 1.717429, Train accuracy: 0.400000, val accuracy: 0.000000\n",
      "Loss: 1.317009, Train accuracy: 0.400000, val accuracy: 0.000000\n",
      "Loss: 1.628413, Train accuracy: 0.400000, val accuracy: 0.000000\n",
      "Loss: 1.623172, Train accuracy: 0.466667, val accuracy: 0.000000\n",
      "Loss: 1.429873, Train accuracy: 0.400000, val accuracy: 0.066667\n",
      "Loss: 1.122143, Train accuracy: 0.466667, val accuracy: 0.000000\n"
     ]
    }
   ],
   "source": [
    "data_size = 15\n",
    "model = TwoLayerNet(n_input = train_X.shape[1], n_output = 10, hidden_layer_size = 100, reg = 1e-2)\n",
    "dataset = Dataset(train_X[:data_size], train_y[:data_size], val_X[:data_size], val_y[:data_size])\n",
    "trainer = Trainer(model, dataset, SGD(), learning_rate=1e-1, num_epochs=20, batch_size=5)\n",
    "\n",
    "# You should expect this to reach 1.0 training accuracy \n",
    "loss_history, train_history, val_history = trainer.fit()"
   ]
  },
  {
   "cell_type": "code",
   "execution_count": 27,
   "metadata": {},
   "outputs": [
    {
     "data": {
      "text/plain": [
       "[<matplotlib.lines.Line2D at 0x114e2d100>]"
      ]
     },
     "execution_count": 27,
     "metadata": {},
     "output_type": "execute_result"
    },
    {
     "data": {
      "image/png": "[encoded data removed]",
      "text/plain": [
       "<Figure size 432x288 with 1 Axes>"
      ]
     },
     "metadata": {
      "needs_background": "light"
     },
     "output_type": "display_data"
    }
   ],
   "source": [
    "plt.plot(train_history)\n",
    "plt.plot(val_history)"
   ]
  },
  {
   "cell_type": "markdown",
   "metadata": {},
   "source": [
    "Let's find hyper parameters make it train to 1.0 accuracy in 20 epochs or less.\n",
    "Find them."
   ]
  },
  {
   "cell_type": "code",
   "execution_count": 28,
   "metadata": {},
   "outputs": [
    {
     "name": "stdout",
     "output_type": "stream",
     "text": [
      "Loss: 2.335925, Train accuracy: 0.333333, val accuracy: 0.000000\n",
      "Loss: 2.312190, Train accuracy: 0.266667, val accuracy: 0.000000\n",
      "Loss: 2.284143, Train accuracy: 0.266667, val accuracy: 0.000000\n",
      "Loss: 2.231907, Train accuracy: 0.400000, val accuracy: 0.000000\n",
      "Loss: 2.104812, Train accuracy: 0.400000, val accuracy: 0.000000\n",
      "Loss: 1.905892, Train accuracy: 0.333333, val accuracy: 0.000000\n",
      "Loss: 1.714329, Train accuracy: 0.333333, val accuracy: 0.000000\n",
      "Loss: 1.596637, Train accuracy: 0.400000, val accuracy: 0.000000\n",
      "Loss: 1.554186, Train accuracy: 0.333333, val accuracy: 0.000000\n",
      "Loss: 1.699044, Train accuracy: 0.333333, val accuracy: 0.133333\n",
      "Loss: 1.701344, Train accuracy: 0.533333, val accuracy: 0.000000\n",
      "Loss: 1.370409, Train accuracy: 0.666667, val accuracy: 0.133333\n",
      "Loss: 1.230902, Train accuracy: 0.666667, val accuracy: 0.000000\n",
      "Loss: 1.146949, Train accuracy: 0.666667, val accuracy: 0.133333\n",
      "Loss: 1.093926, Train accuracy: 0.733333, val accuracy: 0.000000\n",
      "Loss: 1.094587, Train accuracy: 0.800000, val accuracy: 0.066667\n",
      "Loss: 0.904414, Train accuracy: 0.733333, val accuracy: 0.000000\n",
      "Loss: 0.794740, Train accuracy: 0.800000, val accuracy: 0.133333\n",
      "Loss: 0.730234, Train accuracy: 0.933333, val accuracy: 0.000000\n",
      "Loss: 0.680130, Train accuracy: 1.000000, val accuracy: 0.133333\n"
     ]
    }
   ],
   "source": [
    "# Now, tweak some hyper parameters and make it train to 1.0 accuracy in 20 epochs or less\n",
    "model = TwoLayerNet(n_input = train_X.shape[1], n_output = 10, hidden_layer_size = 1200, reg = 9e-3)\n",
    "dataset = Dataset(train_X[:data_size], train_y[:data_size], val_X[:data_size], val_y[:data_size])\n",
    "# TODO: Change any hyperparamers or optimizators to reach training accuracy in 20 epochs\n",
    "trainer = Trainer(model, dataset, SGD(), learning_rate=5e-1, num_epochs=20, batch_size=100)\n",
    "\n",
    "loss_history, train_history, val_history = trainer.fit()"
   ]
  },
  {
   "cell_type": "code",
   "execution_count": 29,
   "metadata": {},
   "outputs": [
    {
     "data": {
      "text/plain": [
       "[<matplotlib.lines.Line2D at 0x116fd7160>]"
      ]
     },
     "execution_count": 29,
     "metadata": {},
     "output_type": "execute_result"
    },
    {
     "data": {
      "image/png": "[encoded data removed]",
      "text/plain": [
       "<Figure size 432x288 with 1 Axes>"
      ]
     },
     "metadata": {
      "needs_background": "light"
     },
     "output_type": "display_data"
    }
   ],
   "source": [
    "plt.plot(train_history)\n",
    "plt.plot(val_history)"
   ]
  },
  {
   "cell_type": "markdown",
   "metadata": {},
   "source": [
    "# Finally main task!\n",
    "\n",
    "Train the best NN! You may add and change the parameters, change the number of the neurons in the layers and experiment. \n",
    "\n",
    "Achive accuracy better than **40%** on validation set."
   ]
  },
  {
   "cell_type": "code",
   "execution_count": 30,
   "metadata": {
    "scrolled": true
   },
   "outputs": [
    {
     "name": "stdout",
     "output_type": "stream",
     "text": [
      "Loss: 2.352108, Train accuracy: 0.199111, val accuracy: 0.203000\n",
      "Loss: 1.940811, Train accuracy: 0.371889, val accuracy: 0.359000\n",
      "Loss: 2.414012, Train accuracy: 0.390111, val accuracy: 0.395000\n",
      "Loss: 1.980579, Train accuracy: 0.536556, val accuracy: 0.535000\n",
      "Loss: 1.966903, Train accuracy: 0.459444, val accuracy: 0.481000\n",
      "best validation accuracy achieved: 0.535000\n"
     ]
    }
   ],
   "source": [
    "# Let's train the best one-hidden-layer network we can\n",
    "\n",
    "learning_rates = 5e-1\n",
    "reg_strength = 9e-3\n",
    "learning_rate_decay = 0.9\n",
    "hidden_layer_size = 500\n",
    "num_epochs = 5\n",
    "batch_size = 64\n",
    "\n",
    "best_classifier = None\n",
    "best_val_accuracy = None\n",
    "\n",
    "loss_history = []\n",
    "train_history = []\n",
    "val_history = []\n",
    "\n",
    "\n",
    "model = TwoLayerNet(n_input=train_X.shape[1], n_output=10, hidden_layer_size=hidden_layer_size, reg=reg_strength)\n",
    "dataset = Dataset(train_X, train_y, val_X, val_y)\n",
    "trainer = Trainer(model, dataset, SGD(), learning_rate=learning_rates, num_epochs=num_epochs, batch_size=batch_size, learning_rate_decay=learning_rate_decay)\n",
    "\n",
    "loss_history, train_history, val_history = trainer.fit()\n",
    "# best_classifier = None\n",
    "best_val_accuracy = max(val_history)\n",
    "\n",
    "\n",
    "# You should expect to get to at least 40% of valudation accuracy\n",
    "# Save loss/train/history of the best classifier to the variables above\n",
    "\n",
    "print('best validation accuracy achieved: %f' % best_val_accuracy)"
   ]
  },
  {
   "cell_type": "code",
   "execution_count": 31,
   "metadata": {},
   "outputs": [
    {
     "data": {
      "text/plain": [
       "[<matplotlib.lines.Line2D at 0x116af1310>]"
      ]
     },
     "execution_count": 31,
     "metadata": {},
     "output_type": "execute_result"
    },
    {
     "data": {
      "image/png": "[encoded data removed]",
      "text/plain": [
       "<Figure size 1080x504 with 2 Axes>"
      ]
     },
     "metadata": {
      "needs_background": "light"
     },
     "output_type": "display_data"
    }
   ],
   "source": [
    "plt.figure(figsize=(15, 7))\n",
    "plt.subplot(211)\n",
    "plt.title(\"Loss\")\n",
    "plt.plot(loss_history)\n",
    "plt.subplot(212)\n",
    "plt.title(\"Train/validation accuracy\")\n",
    "plt.plot(train_history)\n",
    "plt.plot(val_history)"
   ]
  },
  {
   "cell_type": "markdown",
   "metadata": {},
   "source": [
    "# As usual let's access how our best model performs on test data "
   ]
  },
  {
   "cell_type": "code",
   "execution_count": 25,
   "metadata": {},
   "outputs": [
    {
     "name": "stdout",
     "output_type": "stream",
     "text": [
      "Neural net test set accuracy: 0.429000\n"
     ]
    }
   ],
   "source": [
    "best_classifier = model\n",
    "test_pred = best_classifier.predict(test_X)\n",
    "test_accuracy = multiclass_accuracy(test_pred, test_y)\n",
    "print('Neural net test set accuracy: %f' % (test_accuracy, ))"
   ]
  },
  {
   "cell_type": "code",
   "execution_count": null,
   "metadata": {},
   "outputs": [],
   "source": []
  }
 ],
 "metadata": {
  "kernelspec": {
   "display_name": "Python 3",
   "language": "python",
   "name": "python3"
  },
  "language_info": {
   "codemirror_mode": {
    "name": "ipython",
    "version": 3
   },
   "file_extension": ".py",
   "mimetype": "text/x-python",
   "name": "python",
   "nbconvert_exporter": "python",
   "pygments_lexer": "ipython3",
   "version": "3.8.3"
  }
 },
 "nbformat": 4,
 "nbformat_minor": 2
}
